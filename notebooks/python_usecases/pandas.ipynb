{
 "cells": [
  {
   "cell_type": "markdown",
   "metadata": {},
   "source": [
    "# All about Pandas\n",
    "\n",
    "## Intro"
   ]
  },
  {
   "cell_type": "markdown",
   "metadata": {},
   "source": [
    "- Pandas is a powerful open-source library for data analysis and manipulation in Python. It's essentially a toolbox providing data structures and functions to work with data efficiently.\n",
    "- Data Structures:\n",
    "    - `Series`: A one-dimensional labeled array that can hold any data type like integers, strings, etc. Think of it as a list with labels.\n",
    "    - `DataFrame`: A two-dimensional labeled data structure with rows and columns, similar to a spreadsheet.\n",
    "- Functionality:\n",
    "    - Loading data from various sources like CSV, Excel files, databases.\n",
    "    - Data cleaning and manipulation tasks like filtering, sorting, grouping.\n",
    "    - Performing data analysis with descriptive statistics and time series analysis.\n",
    "    - Data visualization by integrating with libraries like Matplotlib.\n",
    "- Pandas is often used alongside other data science libraries like NumPy (numerical computing) and Scikit-learn (machine learning).\n",
    "- Key Components\n",
    "    - `Data`\n",
    "        - The heart of a DataFrame lies in the two-dimensional array of data.\n",
    "        - Each element within the array occupies a specific row and column, creating a structured representation of your data.\n",
    "    - `Rows`\n",
    "        - Each horizontal line in the DataFrame represents a row, often referred to as a Series (another fundamental pandas structure)\n",
    "        - Rows hold collections of data associated with a particular record or observation.\n",
    "    - `Columns`\n",
    "        - Vertical sections in the DataFrame are columns, each holding data of a specific type (e.g., integers, strings, dates).\n",
    "        - Columns represent attributes or features you're analyzing.\n",
    "    - `Index (Row Labels)`\n",
    "        - DataFrames can have optional labels associated with each row, making it easier to identify and access specific rows.\n",
    "        - These labels can be integers, strings, or any other hashable data type.\n",
    "    - `Columns Labels`\n",
    "        - Similar to row labels, DataFrames can have labels assigned to each column, providing descriptive names for the data being held.\n",
    "- Essential Operations\n",
    "    - Once you have a DataFrame, pandas equips you with a rich set of tools to manage, analyze, and transform your data.\n",
    "        - Indexing and Selection\n",
    "            - Access specific rows or columns using labels, positions, Boolean criteria (filtering), or powerful indexing techniques like `.loc` and `.iloc`.\n",
    "        - Data Cleaning\n",
    "            - Address missing values, outliers, or inconsistencies in your data using methods like `.fillna()`, `.dropna()`, or custom logic.\n",
    "        - Data Manipulation\n",
    "            - Reshape your data using `.pivot_table()`, `.groupby()`, or other methods to create summaries, aggregations, or pivot tables.\n",
    "        - Sorting and Ranking\n",
    "            - Order your data based on column values using `.sort_values()`, allowing you to analyze trends and patterns.\n",
    "        - Calculations and Aggregations\n",
    "            - Perform computations on entire columns or groups of rows using vectorized operations, aggregation functions (e.g., `.mean()`, `.sum()`), or apply custom functions.\n",
    "        - Merging and Joining\n",
    "            - Combine DataFrames from different sources using operations like `.concat()`, `.merge()`, or `.join()` to create comprehensive datasets.\n",
    "        - Data Visualization\n",
    "            - While pandas doesn't offer built-in visualization capabilities, it seamlessly integrates with libraries like Matplotlib and Seaborn to create insightful charts and graphs.\n",
    "- Beyond the Basics\n",
    "    - The power of pandas extends beyond these fundamental operations. Here's a glimpse into more advanced features.\n",
    "        - Handling Time Series Data\n",
    "            - Pandas offers specialized data types for dates and times, along with functionality for working with time series data (e.g., resampling, date/time manipulation).\n",
    "        - Working with Hierarchical Data\n",
    "            - Data can have hierarchical structures (e.g., multi-index DataFrames). Pandas provides advanced indexing and selection techniques to navigate these complexities.\n",
    "        - Performance Optimization\n",
    "            - For large datasets, pandas offers tools like vectorized operations and the option to work with memory-mapped files to accelerate computations.\n",
    "        - Integration with Other Libraries\n",
    "            - Pandas plays well with other scientific Python libraries like NumPy, SciPy, and Matplotlib, forming a powerful data science ecosystem.\n",
    "- Install Pandas\n",
    "\n",
    "```\n",
    "pip install pandas\n",
    "```"
   ]
  },
  {
   "cell_type": "markdown",
   "metadata": {},
   "source": [
    "## create dataframe\n",
    "\n",
    "- Pandas empowers you to create DataFrames in various ways, catering to different data sources and preferences."
   ]
  },
  {
   "cell_type": "markdown",
   "metadata": {},
   "source": [
    "- create dataframe using the `DataFrame()` function\n",
    "    - This method is flexible and allows you to specify the data and column names directly.\n",
    "    - This versatile method grants you granular control over the creation process."
   ]
  },
  {
   "cell_type": "code",
   "execution_count": null,
   "metadata": {},
   "outputs": [],
   "source": [
    "import pandas as pd\n",
    "\n",
    "# Create an empty DataFrame\n",
    "df = pd.DataFrame()\n",
    "\n",
    "# Create a DataFrame with data directly\n",
    "data = {'Name': ['Alice', 'Bob', 'Charlie'], 'Age': [25, 30, 22]}\n",
    "df = pd.DataFrame(data)\n",
    "\n",
    "print(df)"
   ]
  },
  {
   "cell_type": "markdown",
   "metadata": {},
   "source": [
    "### create dataframe from Lists/NumPy Arrays\n",
    "\n",
    "- This method is useful when you have your data in a list format.\n",
    "- Convert existing list or NumPy array structures to DataFrames using the `DataFrame()` function."
   ]
  },
  {
   "cell_type": "code",
   "execution_count": null,
   "metadata": {},
   "outputs": [],
   "source": [
    "import pandas as pd\n",
    "\n",
    "data = [['Alice', 25], ['Bob', 30], ['Charlie', 22]]\n",
    "df = pd.DataFrame(data, columns=['Name', 'Age'])\n",
    "\n",
    "print(df)"
   ]
  },
  {
   "cell_type": "markdown",
   "metadata": {},
   "source": [
    "### create dataframe from Dictionaries\n",
    "\n",
    "- If your data resides in dictionaries, pandas can seamlessly transform it into a DataFrame.\n",
    "- The dictionary keys become column names, and values are used to populate the respective columns."
   ]
  },
  {
   "cell_type": "code",
   "execution_count": null,
   "metadata": {},
   "outputs": [],
   "source": [
    "import pandas as pd\n",
    "\n",
    "data = {'Name': ['Alice', 'Bob', 'Charlie'], 'Age': [25, 30, 22]}\n",
    "df = pd.DataFrame(data)\n",
    "\n",
    "print(df)"
   ]
  },
  {
   "cell_type": "markdown",
   "metadata": {},
   "source": [
    "### create dataframe from csv/excel files\n",
    "\n",
    "- Data often resides in CSV, Excel, or other file formats.\n",
    "- Pandas provides functions like `read_csv()` and `read_excel()` to import this data directly into DataFrames."
   ]
  },
  {
   "cell_type": "code",
   "execution_count": null,
   "metadata": {},
   "outputs": [],
   "source": [
    "import pandas as pd\n",
    "\n",
    "# Replace '*.csv' with the actual path to your CSV file\n",
    "data_path = '_data/random_data_from_web.csv'\n",
    "\n",
    "# Read the CSV file using pandas.read_csv()\n",
    "df = pd.read_csv(data_path)\n",
    "\n",
    "# Print the first few rows of the DataFrame (optional)\n",
    "print(df.head())"
   ]
  },
  {
   "cell_type": "markdown",
   "metadata": {},
   "source": [
    "### create dataframe from SQL databases\n",
    "\n",
    "- Leverage pandas' integration with database libraries (e.g., SQLAlchemy) to fetch data from relational databases and construct DataFrames.\n",
    "    ```python\n",
    "    import pandas as pd\n",
    "    from sqlalchemy import create_engine\n",
    "\n",
    "    # Replace these details with your actual database credentials\n",
    "    DATABASE_USER = 'your_username'\n",
    "    DATABASE_PASSWORD = 'your_password'\n",
    "    DATABASE_HOST = 'your_host'\n",
    "    DATABASE_NAME = 'your_database'\n",
    "\n",
    "    # Define the SQL query (replace with your specific query)\n",
    "    sql_query = \"SELECT * FROM your_table_name\"  # Change this to your desired query\n",
    "\n",
    "    # Construct the connection string using SQLAlchemy\n",
    "    engine_string = f\"postgresql://{DATABASE_USER}:{DATABASE_PASSWORD}@\" \\\n",
    "                    f\"{DATABASE_HOST}/{DATABASE_NAME}\"  # Adjust for your database type\n",
    "\n",
    "    # Create a SQLAlchemy engine\n",
    "    engine = create_engine(engine_string)\n",
    "\n",
    "    # Read the data from the database using pandas.read_sql_query()\n",
    "    df = pd.read_sql_query(sql_query, engine)\n",
    "\n",
    "    # Print the first few rows of the DataFrame (optional)\n",
    "    print(df.head())\n",
    "\n",
    "    # Close the connection (optional)\n",
    "    engine.dispose()\n",
    "    ```"
   ]
  },
  {
   "cell_type": "markdown",
   "metadata": {},
   "source": [
    "## Examples with different use cases"
   ]
  },
  {
   "cell_type": "markdown",
   "metadata": {},
   "source": [
    "### use case 2 (TODO: replace with actual use case title)"
   ]
  },
  {
   "cell_type": "markdown",
   "metadata": {},
   "source": [
    "### use case 2 (TODO: replace with actual use case title)"
   ]
  }
 ],
 "metadata": {
  "kernelspec": {
   "display_name": ".venv",
   "language": "python",
   "name": "python3"
  },
  "language_info": {
   "codemirror_mode": {
    "name": "ipython",
    "version": 3
   },
   "file_extension": ".py",
   "mimetype": "text/x-python",
   "name": "python",
   "nbconvert_exporter": "python",
   "pygments_lexer": "ipython3",
   "version": "3.9.13"
  }
 },
 "nbformat": 4,
 "nbformat_minor": 2
}
