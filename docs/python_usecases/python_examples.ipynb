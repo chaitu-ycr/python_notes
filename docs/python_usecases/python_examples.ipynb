{
 "cells": [
  {
   "cell_type": "markdown",
   "metadata": {},
   "source": [
    "# list of python examples"
   ]
  },
  {
   "cell_type": "markdown",
   "metadata": {},
   "source": [
    "## handling text files\n",
    "\n",
    "handling text files is very easy.\n",
    "\n",
    "check below code to open and read any text file."
   ]
  },
  {
   "cell_type": "code",
   "execution_count": null,
   "metadata": {},
   "outputs": [],
   "source": [
    "# open, read lines and print\n",
    "text_file = '_data/dummy_file.txt'\n",
    "\n",
    "with open(text_file, 'r') as fh:\n",
    "    text_file_content = fh.readlines()\n",
    "    print(*text_file_content)"
   ]
  },
  {
   "cell_type": "markdown",
   "metadata": {},
   "source": [
    "## handling csv files using pandas"
   ]
  },
  {
   "cell_type": "code",
   "execution_count": null,
   "metadata": {},
   "outputs": [],
   "source": [
    "# install pandas\n",
    "%pip install pandas"
   ]
  },
  {
   "cell_type": "code",
   "execution_count": null,
   "metadata": {},
   "outputs": [],
   "source": [
    "# import package\n",
    "import pandas as pd\n",
    "\n",
    "# read csv file\n",
    "csv_file = '_data/random_data_from_web.csv'\n",
    "csv_data = pd.read_csv(csv_file)\n",
    "\n",
    "# fetch and print one of the column values\n",
    "customer_ids = csv_data['Customer Id']\n",
    "print(customer_ids)"
   ]
  },
  {
   "cell_type": "markdown",
   "metadata": {},
   "source": [
    "## open site url in default web browser"
   ]
  },
  {
   "cell_type": "code",
   "execution_count": null,
   "metadata": {},
   "outputs": [],
   "source": [
    "# import package\n",
    "import webbrowser\n",
    "\n",
    "# open url using the default browser\n",
    "site_url = 'https://github.com/chaitu-ycr/python_notes'\n",
    "webbrowser.open(url=site_url)"
   ]
  },
  {
   "cell_type": "markdown",
   "metadata": {},
   "source": [
    "## create simple GUI using tkinter\n"
   ]
  },
  {
   "cell_type": "code",
   "execution_count": null,
   "metadata": {},
   "outputs": [],
   "source": [
    "# import package\n",
    "import tkinter as tk\n",
    "\n",
    "class GUI(tk.Tk):\n",
    "    def __init__(self):\n",
    "        super().__init__()\n",
    "        self.title(\"Hello Button Example\")\n",
    "        \n",
    "        # Set the window size (width x height)\n",
    "        self.geometry(\"200x100\")  # Adjust the dimensions as needed\n",
    "\n",
    "        # Create a button\n",
    "        clickButton = tk.Button(self, text='PressMe😋', command=self.say_hello)\n",
    "        clickButton.pack()\n",
    "\n",
    "        # Create a label\n",
    "        self.textLabel = tk.Label(self, text=\"Press Button to say Hello...\")\n",
    "        self.textLabel.pack()\n",
    "\n",
    "    def say_hello(self):\n",
    "        # Update the label with text\n",
    "        self.textLabel.configure(text='Helooo..😴')\n",
    "\n",
    "# Create an instance of the GUI class\n",
    "gui = GUI()\n",
    "# Start the GUI event loop\n",
    "gui.mainloop()\n"
   ]
  },
  {
   "cell_type": "markdown",
   "metadata": {},
   "source": [
    "## create simple browser based user interface page using *dash*"
   ]
  },
  {
   "cell_type": "code",
   "execution_count": null,
   "metadata": {},
   "outputs": [],
   "source": [
    "# import package\n",
    "import dash\n",
    "from dash import dcc\n",
    "from dash import html\n",
    "from dash.dependencies import Input, Output\n",
    "\n",
    "# Create a Dash app\n",
    "app = dash.Dash(__name__)\n",
    "\n",
    "# Define the layout\n",
    "app.layout = html.Div([\n",
    "    html.Button(\"Say Hello\", id=\"hello-button\"),\n",
    "    html.H3(id=\"output-label\")\n",
    "])\n",
    "\n",
    "# Callback to update the label when the button is pressed\n",
    "@app.callback(\n",
    "    Output(\"output-label\", \"children\"),\n",
    "    [Input(\"hello-button\", \"n_clicks\")]\n",
    ")\n",
    "def update_label(n_clicks):\n",
    "    if n_clicks:\n",
    "        return \"Hello, World!\"\n",
    "    else:\n",
    "        return \"\"\n",
    "\n",
    "if __name__ == \"__main__\":\n",
    "    app.run_server(debug=True)\n"
   ]
  },
  {
   "cell_type": "markdown",
   "metadata": {},
   "source": [
    "## open images using opencv and pillow\n"
   ]
  },
  {
   "cell_type": "code",
   "execution_count": null,
   "metadata": {},
   "outputs": [],
   "source": [
    "# install packages\n",
    "%pip install opencv-python"
   ]
  },
  {
   "cell_type": "markdown",
   "metadata": {},
   "source": [
    "### example 1: opening local image using opencv"
   ]
  },
  {
   "cell_type": "code",
   "execution_count": null,
   "metadata": {},
   "outputs": [],
   "source": [
    "# import package\n",
    "import cv2\n",
    "\n",
    "# Read an image from a file\n",
    "image_path = \"_data/dummy_image.jpg\"  # Replace with the actual path to your image\n",
    "img = cv2.imread(image_path, cv2.IMREAD_COLOR)\n",
    "\n",
    "# Check if the image was loaded successfully\n",
    "if img is not None:\n",
    "    # Display the image in a window\n",
    "    cv2.imshow(\"Image\", img)\n",
    "    cv2.waitKey(0)  # Wait for a key press (0 means indefinitely)\n",
    "    cv2.destroyAllWindows()  # Close the window\n",
    "\n",
    "else:\n",
    "    print(\"Error loading the image. Please check the file path.\")\n"
   ]
  },
  {
   "cell_type": "markdown",
   "metadata": {},
   "source": [
    "### example 2: opening online image using pillow"
   ]
  },
  {
   "cell_type": "code",
   "execution_count": null,
   "metadata": {},
   "outputs": [],
   "source": [
    "# import package\n",
    "from PIL import Image\n",
    "import requests\n",
    "from io import BytesIO\n",
    "\n",
    "# Replace the URL with the actual image URL\n",
    "url = \"https://picsum.photos/200\"\n",
    "\n",
    "# Fetch the image data from the URL\n",
    "response = requests.get(url)\n",
    "image_data = BytesIO(response.content)\n",
    "\n",
    "# Open the image using PIL\n",
    "image = Image.open(image_data)\n",
    "\n",
    "# Display the image\n",
    "image.show()\n"
   ]
  },
  {
   "cell_type": "markdown",
   "metadata": {},
   "source": [
    "## creating python packages using poetry\n"
   ]
  },
  {
   "cell_type": "markdown",
   "metadata": {},
   "source": [
    "## create python tests using pytest\n",
    "\n",
    "### create HTML test reports using pytest-html\n"
   ]
  },
  {
   "cell_type": "markdown",
   "metadata": {},
   "source": [
    "## multithreading\n"
   ]
  },
  {
   "cell_type": "markdown",
   "metadata": {},
   "source": [
    "## regular expressions\n"
   ]
  },
  {
   "cell_type": "markdown",
   "metadata": {},
   "source": [
    "## create executables using pyinstaller"
   ]
  }
 ],
 "metadata": {
  "kernelspec": {
   "display_name": "Python 3",
   "language": "python",
   "name": "python3"
  },
  "language_info": {
   "codemirror_mode": {
    "name": "ipython",
    "version": 3
   },
   "file_extension": ".py",
   "mimetype": "text/x-python",
   "name": "python",
   "nbconvert_exporter": "python",
   "pygments_lexer": "ipython3",
   "version": "3.12.1"
  }
 },
 "nbformat": 4,
 "nbformat_minor": 2
}
