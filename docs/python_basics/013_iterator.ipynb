{
 "cells": [
  {
   "cell_type": "markdown",
   "metadata": {},
   "source": [
    "# iterator\n",
    "\n",
    "- iterators are objects that allow you to iterate through a collection of elements one at a time.\n",
    "- They provide a way to efficiently access elements in a sequence without loading the entire collection into memory at once.\n",
    "- This is particularly useful for working with large datasets or when you only need to process elements one by one.\n",
    "- Iterable vs. Iterator\n",
    "    - An iterable is an object that can be used to create an iterator.\n",
    "    - It defines a protocol for iterating, but it's not the iterator itself.\n",
    "    - Common iterables in Python include lists, tuples, strings, dictionaries (for keys), and sets.\n",
    "    - An iterator, on the other hand, is an object that implements the iterator protocol.\n",
    "    - It keeps track of the current position within the sequence and provides a way to access the next element.\n",
    "- The Iterator Protocol\n",
    "    - An iterator must implement two special methods\n",
    "        - `__iter__(self)`: This method returns the iterator object itself. It's called when you use the `iter()` function on an iterable.\n",
    "        - `__next__(self)`: This method raises a `StopIteration` exception when there are no more elements to iterate over. Otherwise, it returns the next element in the sequence.\n",
    "- You can obtain an iterator from an iterable using the built-in `iter()` function"
   ]
  },
  {
   "cell_type": "code",
   "execution_count": null,
   "metadata": {},
   "outputs": [],
   "source": [
    "numbers = [1, 2, 3, 4, 5]\n",
    "number_iterator = iter(numbers)"
   ]
  },
  {
   "cell_type": "markdown",
   "metadata": {},
   "source": [
    "- Using Iterators in `for` Loops\n",
    "    - The for loop in Python automatically uses the iterator protocol behind the scenes.\n",
    "    - When you use a `for` loop with an iterable, Python internally creates an iterator object, calls `__next__` repeatedly to get the next element, and assigns it to the loop variable until `StopIteration` is raised."
   ]
  },
  {
   "cell_type": "code",
   "execution_count": null,
   "metadata": {},
   "outputs": [],
   "source": [
    "for number in numbers:\n",
    "    print(number)  # This will print each number on a new line"
   ]
  },
  {
   "cell_type": "markdown",
   "metadata": {},
   "source": [
    "- Custom Iterators\n",
    "    - You can create your own custom iterators by defining a class that implements the iterator protocol (i.e., defines the `__iter__` and `__next__` methods).\n",
    "    - This allows you to create iterators for custom data structures or generate sequences on demand.\n",
    "- Benefits of Using Iterators\n",
    "    - Memory Efficiency: Iterators process elements one at a time, reducing memory usage compared to loading the entire collection at once. This is especially beneficial for large datasets.\n",
    "    - Lazy Evaluation: Some iterators, like those created with generator expressions, can be even more memory-efficient as they generate elements only when needed.\n",
    "    - Flexibility: Iterators provide a generic way to work with different data structures that support iteration.\n",
    "- Common Use Cases\n",
    "    - Iterating over elements in lists, tuples, and strings.\n",
    "    - Processing elements in files line by line.\n",
    "    - Creating custom sequences using generator expressions or generator functions."
   ]
  }
 ],
 "metadata": {
  "kernelspec": {
   "display_name": ".venv",
   "language": "python",
   "name": "python3"
  },
  "language_info": {
   "codemirror_mode": {
    "name": "ipython",
    "version": 3
   },
   "file_extension": ".py",
   "mimetype": "text/x-python",
   "name": "python",
   "nbconvert_exporter": "python",
   "pygments_lexer": "ipython3",
   "version": "3.12.1"
  }
 },
 "nbformat": 4,
 "nbformat_minor": 2
}
