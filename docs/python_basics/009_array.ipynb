{
 "cells": [
  {
   "cell_type": "markdown",
   "metadata": {},
   "source": [
    "# array\n",
    "\n",
    "- `array` module offers a more specialized array data structure\n",
    "- The `array.array` class is designed to store a fixed-size collection of elements of the same data type. This can be useful for memory optimization when dealing with large amounts of numerical data, especially for primitive data types like integers or floats.\n",
    "- Unlike lists, arrays in the array module have a fixed size defined at creation and cannot be resized afterward.\n",
    "- You need to specify a typecode to indicate the data type of the elements in the array. Here are some common typecodes:\n",
    "    - 'b': signed char\n",
    "    - 'B': unsigned char\n",
    "    - 'h': signed short\n",
    "    - 'H': unsigned short\n",
    "    - 'i': signed int\n",
    "    - 'I': unsigned int\n",
    "    - 'l': signed long\n",
    "    - 'L': unsigned long\n",
    "    - 'f': float\n",
    "    - 'd': double\n",
    "- Accessing and Modifying Elements\n",
    "    - You can access elements by index using square brackets, similar to lists.\n",
    "    - However, modifying elements after creation is generally not recommended due to the fixed size nature of arrays. If you need to modify the data frequently, consider using lists or NumPy arrays.\n",
    "- Common Array Methods\n",
    "    - `append(x)`: Not recommended as it's not efficient for fixed-size arrays.\n",
    "    - `buffer_info()`: Returns a tuple of (address, length) of the underlying buffer used by the array.\n",
    "    - `byteswap()`: Swaps the byte order of all the elements in the array (useful when working with different endianness systems).\n",
    "    - `count(x)`: Counts the number of occurrences of the element x in the array.\n",
    "    - `frombytes(s)`: Creates a new array from a string or byte buffer.\n",
    "    - `fromfile(file, n)`: Reads n elements from a file-like object into the array.\n",
    "    - `tolist()`: Returns a regular Python list containing copies of the array elements.\n",
    "    - `tostring()`: Returns a string representation of the array's data.\n",
    "- When to Use Arrays from the `array` Module\n",
    "    - Use arrays from the `array` module when you need a memory-efficient way to store large collections of primitive numerical data types and don't require frequent modifications.\n",
    "    - However, for more general-purpose data storage and manipulation, or when you need resizable arrays with various data types, consider using lists or NumPy arrays.\n",
    "- Additional Considerations\n",
    "    - The `array` module is a built-in module, but it's not as widely used as lists or NumPy arrays.\n",
    "    - For most modern Python data science and numerical computing tasks, NumPy arrays are the preferred choice due to their rich functionality and performance optimizations."
   ]
  },
  {
   "cell_type": "code",
   "execution_count": null,
   "metadata": {},
   "outputs": [],
   "source": [
    "from array import array\n",
    "\n",
    "# Array of integers\n",
    "int_array = array('i', [1, 2, 3, 4])\n",
    "\n",
    "# Array of floats\n",
    "float_array = array('f', [1.5, 2.3, 4.1])"
   ]
  }
 ],
 "metadata": {
  "kernelspec": {
   "display_name": ".venv",
   "language": "python",
   "name": "python3"
  },
  "language_info": {
   "codemirror_mode": {
    "name": "ipython",
    "version": 3
   },
   "file_extension": ".py",
   "mimetype": "text/x-python",
   "name": "python",
   "nbconvert_exporter": "python",
   "pygments_lexer": "ipython3",
   "version": "3.12.1"
  }
 },
 "nbformat": 4,
 "nbformat_minor": 2
}
