{
 "cells": [
  {
   "cell_type": "markdown",
   "metadata": {},
   "source": [
    "# match case\n",
    "\n",
    "- The `match-case` statement, introduced in Python 3.10, provides a powerful and readable way to perform pattern matching and conditional branching in your code. It offers an alternative to traditional `if-elif-else` chains, especially when dealing with complex conditions or working with data structures like dictionaries and tuples.\n",
    "    ```python\n",
    "    match expression:\n",
    "    case pattern1:\n",
    "        # Code to execute if expression matches pattern1\n",
    "    case pattern2:\n",
    "        # Code to execute if expression matches pattern2\n",
    "    case _:  # Wildcard pattern (optional)\n",
    "        # Code to execute if no other pattern matches\n",
    "    ```\n",
    "    - Explanation\n",
    "        - `match expression`: This specifies the value you want to match against different patterns. It can be a variable, a function call, or any expression that evaluates to a value.\n",
    "        - `case pattern1`: Each `case` block defines a pattern to match against the expression. Patterns can be literals (like numbers, strings), variables, or more complex structures like ranges, class instances, or combinations using operators like `|` (or) and `&` (and).\n",
    "            - If the `expression` matches `pattern1`, the indented code block below it is executed.\n",
    "        - `case pattern2` (optional): You can have multiple `case` blocks to check for different patterns.\n",
    "            - The interpreter tries to match the `expression` against each pattern in the order they appear. The first successful match (based on pattern types and values) executes its corresponding code.\n",
    "        - `case _` (optional): The wildcard pattern (`_`) acts as a catch-all case and is executed if none of the preceding patterns match."
   ]
  },
  {
   "cell_type": "markdown",
   "metadata": {},
   "source": [
    "- Advantages of match-case\n",
    "    - Readability: Can simplify complex conditional logic compared to nested `if-elif-else` chains.\n",
    "    - Exhaustiveness Checking: Some IDEs can help ensure all possible cases are handled by checking for unused patterns.\n",
    "    - Pattern Matching: Facilitates working with data structures by allowing pattern matching on their elements.\n",
    "- When to Use match-case\n",
    "    - When you have multiple conditions to check based on a single value or structure.\n",
    "    - When the conditions involve complex patterns or comparisons.\n",
    "    - When code readability and maintainability are important.\n",
    "- Considerations\n",
    "    - `match-case` is a relatively new feature (Python 3.10+).\n",
    "    - If compatibility with older Python versions is a concern, `if-elif-else` might be preferable.\n",
    "    - While `match-case` offers benefits, it's not always a strict replacement for `if-elif-else`.\n",
    "    - Choose the approach that best suits your specific case"
   ]
  },
  {
   "cell_type": "code",
   "execution_count": null,
   "metadata": {},
   "outputs": [],
   "source": [
    "from random import randint\n",
    "grade = randint(50, 100)\n",
    "\n",
    "match grade:\n",
    "    case grade if 90 <= grade <= 100:\n",
    "        print(\"Excellent! You got an A.\")\n",
    "    case grade if 80 <= grade < 90:\n",
    "        print(\"Great job! You got a B.\")\n",
    "    case grade if 70 <= grade < 80:\n",
    "        print(\"You got a C. Keep practicing!\")\n",
    "    case _:\n",
    "        print(\"Study hard! You got a D or below.\")"
   ]
  }
 ],
 "metadata": {
  "kernelspec": {
   "display_name": ".venv",
   "language": "python",
   "name": "python3"
  },
  "language_info": {
   "codemirror_mode": {
    "name": "ipython",
    "version": 3
   },
   "file_extension": ".py",
   "mimetype": "text/x-python",
   "name": "python",
   "nbconvert_exporter": "python",
   "pygments_lexer": "ipython3",
   "version": "3.12.1"
  }
 },
 "nbformat": 4,
 "nbformat_minor": 2
}
