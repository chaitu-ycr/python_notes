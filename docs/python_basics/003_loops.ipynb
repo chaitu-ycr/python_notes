{
 "cells": [
  {
   "cell_type": "markdown",
   "metadata": {},
   "source": [
    "# loops"
   ]
  },
  {
   "cell_type": "markdown",
   "metadata": {},
   "source": [
    "## for and for else loop\n",
    "- In Python, `for` loops provide a concise way to iterate over sequences (like `lists`, `tuples`, or `strings`) and execute a block of code for each item in the sequence. Additionally, `for` loops can have an optional `else` clause that executes only if the loop completes normally (without encountering a `break` statement)."
   ]
  },
  {
   "cell_type": "code",
   "execution_count": null,
   "metadata": {},
   "outputs": [],
   "source": [
    "# Basic for Loop\n",
    "fruits = [\"apple\", \"banana\", \"cherry\"]\n",
    "for fruit in fruits:\n",
    "    print(fruit)"
   ]
  },
  {
   "cell_type": "markdown",
   "metadata": {},
   "source": [
    "- This loop iterates over the `fruits` list.\n",
    "- In each iteration, the variable `fruit` takes on the value of the current item in the list (\"apple\", \"banana\", \"cherry\" in this case).\n",
    "- The indented code block (printing the fruit name) is executed for each item."
   ]
  },
  {
   "cell_type": "code",
   "execution_count": null,
   "metadata": {},
   "outputs": [],
   "source": [
    "# Looping with Index\n",
    "numbers = [1, 2, 3, 4]\n",
    "for index, number in enumerate(numbers):\n",
    "    print(f\"Index: {index}, Number: {number}\")"
   ]
  },
  {
   "cell_type": "markdown",
   "metadata": {},
   "source": [
    "- This example uses `enumerate(numbers)` to get both the index (position) and the value in each iteration.\n",
    "- `index` takes on the index of the current item, while `number` holds the actual value."
   ]
  },
  {
   "cell_type": "code",
   "execution_count": null,
   "metadata": {},
   "outputs": [],
   "source": [
    "# Looping over a Range\n",
    "for i in range(5):  # Range from 0 (inclusive) to 5 (exclusive)\n",
    "    print(i)"
   ]
  },
  {
   "cell_type": "markdown",
   "metadata": {},
   "source": [
    "- The `range(n)` function generates a sequence of numbers from 0 (inclusive) to n-1 (exclusive).\n",
    "- This loop iterates 5 times, printing each number from 0 to 4."
   ]
  },
  {
   "cell_type": "code",
   "execution_count": null,
   "metadata": {},
   "outputs": [],
   "source": [
    "# for-else Loop\n",
    "found = False\n",
    "for number in range(10):\n",
    "    if number == 5:\n",
    "        found = True\n",
    "        break\n",
    "if found:\n",
    "    print(\"Number 5 found in the list!\")\n",
    "else:\n",
    "    print(\"Number 5 not found.\")"
   ]
  },
  {
   "cell_type": "markdown",
   "metadata": {},
   "source": [
    "- The `else` clause is optional and only executes if the loop completes normally (without `break`).\n",
    "- In this example, if `number` is 5, `found` becomes True, and the loop breaks using `break`.\n",
    "- Since the loop didn't complete normally, the `else` block doesn't execute.\n",
    "- If `number` never reaches 5, the loop finishes iterating, and the `else` block prints that 5 wasn't found.\n",
    "- Key Points\n",
    "    - Use `for` loops to efficiently iterate over sequences and process items one by one.\n",
    "    - You can optionally include an index along with the item in each iteration.\n",
    "    - `range(n)` is useful for iterating a specific number of times.\n",
    "    - The `else` clause provides a way to execute code only when the loop completes normally (no `break`)."
   ]
  },
  {
   "cell_type": "markdown",
   "metadata": {},
   "source": [
    "## while loop\n",
    "- A while loop in Python is a control flow statement that repeatedly executes a block of code as long as a certain condition is true.\n",
    "    ```python\n",
    "    while condition:\n",
    "        # code to be executed while the condition is true\n",
    "    ```\n",
    "- `while` keyword\n",
    "    - This keyword marks the beginning of the while loop.\n",
    "- `condition`\n",
    "    - This is a Boolean expression that determines whether the loop continues to execute.\n",
    "    - The loop keeps running as long as the condition evaluates to True. Once the condition becomes False, the loop terminates.\n",
    "    - Indented block\n",
    "        - The code you want to execute repeatedly goes here.\n",
    "        - The indentation level defines the code block that belongs to the loop.\n",
    "        - Make sure all the code you want to repeat is indented at the same level.\n",
    "- Common Uses of While Loops\n",
    "    - Iterating a specific number of times (using a counter variable).\n",
    "    - Reading user input until a specific condition is met (e.g., entering a valid value).\n",
    "    - Processing data from a file line by line as long as there's more data to read.\n",
    "    - Simulating games or other interactive applications where the loop continues until a specific event occurs (e.g., winning or losing a game)."
   ]
  },
  {
   "cell_type": "code",
   "execution_count": null,
   "metadata": {},
   "outputs": [],
   "source": [
    "count = 0\n",
    "while count < 5:\n",
    "  print(\"Count:\", count)\n",
    "  count += 1  # Increment count by 1"
   ]
  },
  {
   "cell_type": "markdown",
   "metadata": {},
   "source": [
    "- Explanation\n",
    "    - The loop variable `count` is initialized to 0.\n",
    "    - The `while` condition checks if `count` is less than 5 (`count < 5`).\n",
    "    - As long as the condition is `True` (initially and until `count` reaches 4), the indented code block executes.\n",
    "    - Inside the block, `count` is printed, and then incremented by 1 using `count += 1`.\n",
    "    - After each iteration, the condition is checked again. Once `count` becomes 5, the condition becomes `False`, and the loop terminates."
   ]
  },
  {
   "cell_type": "markdown",
   "metadata": {},
   "source": [
    "## break, continue, pass\n",
    "- These three (`break`, `continue`, and `pass`) are control flow statements that influence the execution flow within loops (and conditionally in the case of `pass`) in Python.\n",
    "- `break`: The `break` statement abruptly terminates the loop it's within, regardless of the loop condition's state (even if it's still `True`). Control jumps to the statement following the loop's complete execution\n",
    "    - Below code iterates from 0 to 9, but upon reaching 5, the break statement exits the loop, printing only numbers 0 to 4."
   ]
  },
  {
   "cell_type": "code",
   "execution_count": null,
   "metadata": {},
   "outputs": [],
   "source": [
    "for number in range(10):\n",
    "    if number == 5:\n",
    "        print(\"Found 5, breaking out of the loop!\")\n",
    "        break\n",
    "    print(number)"
   ]
  },
  {
   "cell_type": "markdown",
   "metadata": {},
   "source": [
    "- `continue`: The `continue` statement skips the current iteration of the loop and immediately jumps to the beginning of the next iteration. The remaining code within the current iteration is not executed.\n",
    "    - Below code loop iterates from 0 to 9. The `continue` statement skips even numbers, resulting in only odd numbers being printed (1, 3, 5, 7, 9)."
   ]
  },
  {
   "cell_type": "code",
   "execution_count": null,
   "metadata": {},
   "outputs": [],
   "source": [
    "for number in range(10):\n",
    "    if number % 2 == 0:  # Skip even numbers\n",
    "        continue\n",
    "    print(number)"
   ]
  },
  {
   "cell_type": "markdown",
   "metadata": {},
   "source": [
    "- `pass`: The `pass` statement acts as a placeholder, essentially doing nothing. It's used syntactically when a statement is required but you don't want any action to occur at that point.\n",
    "    - Below code `pass` fills the empty block, allowing the loop to function correctly without any action within the loop itself."
   ]
  },
  {
   "cell_type": "code",
   "execution_count": null,
   "metadata": {},
   "outputs": [],
   "source": [
    "for number in range(5):\n",
    "    pass  # Placeholder, no action\n",
    "print(\"Loop finished!\")"
   ]
  },
  {
   "cell_type": "markdown",
   "metadata": {},
   "source": [
    "- Points to remember\n",
    "    - `break` exits the entire loop.\n",
    "    - `continue` skips the current iteration and moves to the next.\n",
    "    - `pass` is a null statement, acting as a placeholder.\n",
    "    - These statements are most commonly used within loops, but `pass` can also be used in conditional statements (like `if` statements) in specific situations."
   ]
  }
 ],
 "metadata": {
  "kernelspec": {
   "display_name": ".venv",
   "language": "python",
   "name": "python3"
  },
  "language_info": {
   "codemirror_mode": {
    "name": "ipython",
    "version": 3
   },
   "file_extension": ".py",
   "mimetype": "text/x-python",
   "name": "python",
   "nbconvert_exporter": "python",
   "pygments_lexer": "ipython3",
   "version": "3.12.1"
  }
 },
 "nbformat": 4,
 "nbformat_minor": 2
}
