{
 "cells": [
  {
   "cell_type": "markdown",
   "metadata": {},
   "source": [
    "# set\n",
    "\n",
    "-  sets represent unordered collections of unique elements\n",
    "- Eliminate duplicate entries: Sets automatically remove duplicates, ensuring each element appears only once.\n",
    "- Check for membership: Quickly determine if an element exists in the set using the `in` operator.\n",
    "- Perform set operations: Sets support mathematical operations like union (combining elements), intersection (finding common elements), and difference (elements in one set but not the other).\n",
    "- Set can be created using curly braces `{}` or using `set()` function\n",
    "- Key Characteristics\n",
    "    - Unordered: Elements in a set don't have a specific order, and iterating over a set won't guarantee the order in which you get the elements.\n",
    "    - Unchangeable: Sets themselves are immutable, meaning you cannot modify the elements after creation. However, you can create a new set with changes.\n",
    "- Accessing Elements\n",
    "    - Since sets are unordered, you cannot access elements by index. However, you can check for membership using the `in` operator\n",
    "- Adding or Removing Elements\n",
    "    - Sets are mutable in the sense that you can add or remove elements, but you cannot modify existing elements\n",
    "        - `add(element)`: Add a new, unique element to the set.\n",
    "        - `remove(element)`: Remove the first occurrence of an element (error if not found).\n",
    "        - `discard(element)`: Similar to remove, but ignores the error if the element is not found.\n",
    "        - `pop()`: Removes and returns an arbitrary element from the set (raises a KeyError if the set is empty).\n",
    "        - `update(iterable)`: Update the set by adding elements from another iterable (like a list or another set).\n",
    "- Set Operations\n",
    "    - `union |`: Combines elements from both sets, excluding duplicates.\n",
    "    - `intersection &`: Returns elements that are common to both sets.\n",
    "    - `difference -`: Returns elements in the first set that are not in the second set.\n",
    "    - `symmetric_difference ^`: Returns elements that are in either set but not in both.\n",
    "- Common Set Methods\n",
    "    - `len(set)`: Returns the number of elements in the set.\n",
    "    - `isdisjoint(other_set)`: Checks if two sets have no common elements (are disjoint).\n",
    "    - `issubset(other_set)`: Checks if all elements in the first set are also in the other set.\n",
    "    - `issuperset(other_set)`: Checks if the first set contains all elements of the other set and may have additional elements.\n",
    "- When to Use Sets\n",
    "    - Use sets when you need to store unique elements and perform membership checks efficiently.\n",
    "    - They are useful for deduplicating data, performing set operations, and working with collections where order doesn't matter.\n",
    "- Key Points\n",
    "    - Sets are unordered collections with unique elements.\n",
    "    - They are useful for eliminating duplicates, checking membership, and performing set operations.\n",
    "    - Sets are mutable in the sense that you can add or remove elements, but the elements themselves are immutable.\n",
    "    - Understand the different set methods and operators to effectively work with sets in your Python programs"
   ]
  },
  {
   "cell_type": "code",
   "execution_count": null,
   "metadata": {},
   "outputs": [],
   "source": [
    "fruits = {\"apple\", \"banana\", \"cherry\", \"apple\"}  # Duplicates will be removed\n",
    "\n",
    "numbers_list = [1, 2, 2, 3, 4]\n",
    "numbers_set = set(numbers_list)  # Converts a list with duplicates to a set (duplicates removed)\n",
    "\n",
    "if \"mango\" in fruits:\n",
    "    print(\"Mango is in the set.\")"
   ]
  }
 ],
 "metadata": {
  "kernelspec": {
   "display_name": ".venv",
   "language": "python",
   "name": "python3"
  },
  "language_info": {
   "codemirror_mode": {
    "name": "ipython",
    "version": 3
   },
   "file_extension": ".py",
   "mimetype": "text/x-python",
   "name": "python",
   "nbconvert_exporter": "python",
   "pygments_lexer": "ipython3",
   "version": "3.12.1"
  }
 },
 "nbformat": 4,
 "nbformat_minor": 2
}
