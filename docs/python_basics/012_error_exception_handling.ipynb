{
 "cells": [
  {
   "cell_type": "markdown",
   "metadata": {},
   "source": [
    "# error and exception handling\n",
    "\n",
    "- In Python, errors and exceptions are mechanisms to handle unexpected situations that arise during program execution.\n",
    "- They help prevent your program from crashing abruptly and offer ways to recover gracefully or provide meaningful feedback to the user.\n",
    "- Types of Errors\n",
    "    - Syntax Errors: These are violations of Python's grammar rules, like typos or missing colons. These are detected before the program even runs.\n",
    "    - Exceptions: These are runtime errors that occur during program execution. They can be caused by various factors like division by zero, accessing non-existent elements, or file-related issues.\n",
    "- Exception Handling with `try-except`\n",
    "    - The primary mechanism for handling exceptions in Python is the `try-except` block"
   ]
  },
  {
   "cell_type": "code",
   "execution_count": null,
   "metadata": {},
   "outputs": [],
   "source": [
    "try:\n",
    "    # Code that might raise an exception\n",
    "    result = 10 / 0  # This will cause a ZeroDivisionError exception\n",
    "    print(result)\n",
    "except ZeroDivisionError:\n",
    "    print(\"Oops! You cannot divide by zero.\")"
   ]
  },
  {
   "cell_type": "markdown",
   "metadata": {},
   "source": [
    "- Explanation\n",
    "    - `try:`: This block contains the code that might raise an exception.\n",
    "    - `except ZeroDivisionError:`: This `except` block handles the `ZeroDivisionError` exception specifically. If any code within the `try` block raises this exception, the code within this `except` block will execute instead.\n",
    "    - You can have multiple `except` blocks to handle different types of exceptions.\n",
    "\n",
    "- `else` Clause\n",
    "    - The `else` clause (optional) is used when no exception occurs within the `try` block. The code within the `else` block executes only if the `try` block completes successfully without raising an exception."
   ]
  },
  {
   "cell_type": "code",
   "execution_count": null,
   "metadata": {},
   "outputs": [],
   "source": [
    "try:\n",
    "    result = 10 / 5\n",
    "    print(result)\n",
    "except ZeroDivisionError:\n",
    "    print(\"Oops! You cannot divide by zero.\")\n",
    "else:\n",
    "    print(\"The division operation was successful.\")"
   ]
  },
  {
   "cell_type": "markdown",
   "metadata": {},
   "source": [
    "- `finally` Clause\n",
    "    - The `finally` clause (optional) executes regardless of whether an exception occurs or not. It's commonly used to release resources or perform cleanup tasks."
   ]
  },
  {
   "cell_type": "code",
   "execution_count": null,
   "metadata": {},
   "outputs": [],
   "source": [
    "try:\n",
    "    file = open(\"myfile.txt\", \"r\")  # Open a file\n",
    "    data = file.read()\n",
    "finally:\n",
    "    if file:\n",
    "        file.close()  # Close the file even if an exception occurs"
   ]
  },
  {
   "cell_type": "markdown",
   "metadata": {},
   "source": [
    "- Common Exceptions\n",
    "    - `ZeroDivisionError`: Attempting to divide by zero.\n",
    "    - `IndexError`: Trying to access an element at an invalid index (out of bounds).\n",
    "    - `NameError`: Referencing a variable that hasn't been defined.\n",
    "    - `KeyError`: Trying to access a key that doesn't exist in a dictionary.\n",
    "    - `FileNotFoundError`: Attempting to open a file that doesn't exist.\n",
    "- Raising Exceptions\n",
    "    - You can intentionally raise exceptions using the `raise` statement. This is useful for signaling errors from within your code."
   ]
  },
  {
   "cell_type": "code",
   "execution_count": null,
   "metadata": {},
   "outputs": [],
   "source": [
    "def validate_age(age):\n",
    "    if age < 0:\n",
    "        raise ValueError(\"Age cannot be negative.\")\n",
    "\n",
    "validate_age(-5)  # This will raise a ValueError"
   ]
  },
  {
   "cell_type": "markdown",
   "metadata": {},
   "source": [
    "- Key Points\n",
    "    - Use exception handling (`try-except`) to handle unexpected errors gracefully and prevent program crashes.\n",
    "    - Employ specific `except` blocks to handle different exception types.\n",
    "    - The `else` clause executes only if no exception occurs in the `try` block.\n",
    "    - The `finally` clause is always executed, regardless of exceptions.\n",
    "    - Understand common exceptions to anticipate potential errors in your code."
   ]
  }
 ],
 "metadata": {
  "kernelspec": {
   "display_name": ".venv",
   "language": "python",
   "name": "python3"
  },
  "language_info": {
   "codemirror_mode": {
    "name": "ipython",
    "version": 3
   },
   "file_extension": ".py",
   "mimetype": "text/x-python",
   "name": "python",
   "nbconvert_exporter": "python",
   "pygments_lexer": "ipython3",
   "version": "3.12.1"
  }
 },
 "nbformat": 4,
 "nbformat_minor": 2
}
